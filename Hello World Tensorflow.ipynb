{
    "nbformat_minor": 0, 
    "cells": [
        {
            "source": "!pip install https://storage.googleapis.com/tensorflow/linux/cpu/tensorflow-0.9.0-cp27-none-linux_x86_64.whl", 
            "execution_count": 1, 
            "cell_type": "code", 
            "outputs": [
                {
                    "name": "stdout", 
                    "text": "Collecting tensorflow==0.9.0 from https://storage.googleapis.com/tensorflow/linux/cpu/tensorflow-0.9.0-cp27-none-linux_x86_64.whl\n  Downloading https://storage.googleapis.com/tensorflow/linux/cpu/tensorflow-0.9.0-cp27-none-linux_x86_64.whl (27.6MB)\n\u001b[K    100% |\u2588\u2588\u2588\u2588\u2588\u2588\u2588\u2588\u2588\u2588\u2588\u2588\u2588\u2588\u2588\u2588\u2588\u2588\u2588\u2588\u2588\u2588\u2588\u2588\u2588\u2588\u2588\u2588\u2588\u2588\u2588\u2588| 27.6MB 43kB/s \n\u001b[?25hRequirement already satisfied (use --upgrade to upgrade): six>=1.10.0 in /usr/local/src/bluemix_jupyter_bundle.v31/notebook/lib/python2.7/site-packages (from tensorflow==0.9.0)\nCollecting protobuf==3.0.0b2 (from tensorflow==0.9.0)\n  Downloading protobuf-3.0.0b2-py2.py3-none-any.whl (326kB)\n\u001b[K    100% |\u2588\u2588\u2588\u2588\u2588\u2588\u2588\u2588\u2588\u2588\u2588\u2588\u2588\u2588\u2588\u2588\u2588\u2588\u2588\u2588\u2588\u2588\u2588\u2588\u2588\u2588\u2588\u2588\u2588\u2588\u2588\u2588| 327kB 1.3MB/s \n\u001b[?25hCollecting wheel (from tensorflow==0.9.0)\n  Downloading wheel-0.29.0-py2.py3-none-any.whl (66kB)\n\u001b[K    100% |\u2588\u2588\u2588\u2588\u2588\u2588\u2588\u2588\u2588\u2588\u2588\u2588\u2588\u2588\u2588\u2588\u2588\u2588\u2588\u2588\u2588\u2588\u2588\u2588\u2588\u2588\u2588\u2588\u2588\u2588\u2588\u2588| 71kB 7.9MB/s \n\u001b[?25hRequirement already satisfied (use --upgrade to upgrade): numpy>=1.8.2 in /usr/local/src/bluemix_jupyter_bundle.v31/notebook/lib/python2.7/site-packages (from tensorflow==0.9.0)\nRequirement already satisfied (use --upgrade to upgrade): setuptools in /gpfs/global_fs01/sym_shared/YPProdSpark/user/sc07-a3c399a7caae2d-99fc3133bdbb/.local/lib/python2.7/site-packages (from protobuf==3.0.0b2->tensorflow==0.9.0)\nInstalling collected packages: protobuf, wheel, tensorflow\n  Found existing installation: protobuf 2.6.1\n    Uninstalling protobuf-2.6.1:\n      Successfully uninstalled protobuf-2.6.1\nSuccessfully installed protobuf-3.0.0b2 tensorflow-0.9.0 wheel-0.29.0\n", 
                    "output_type": "stream"
                }
            ], 
            "metadata": {
                "collapsed": false
            }
        }, 
        {
            "source": "### Hello, Tensor World!\nLet\u2019s analyze the Hello World script you ran. For reference, I\u2019ve added the code below.", 
            "cell_type": "markdown", 
            "metadata": {}
        }, 
        {
            "source": "import tensorflow as tf\n\n# Create TensorFlow object called hello_constant\nhello_constant = tf.constant('Hello World!')\n\nwith tf.Session() as sess:\n    # Run the tf.constant operation in the session\n    output = sess.run(hello_constant)\n    print(output)", 
            "execution_count": 2, 
            "cell_type": "code", 
            "outputs": [
                {
                    "name": "stdout", 
                    "text": "Hello World!\n", 
                    "output_type": "stream"
                }
            ], 
            "metadata": {
                "collapsed": false
            }
        }, 
        {
            "source": "### Tensor\n\nIn TensorFlow, data isn\u2019t stored as integers, floats, or strings. These values are encapsulated in an object called a tensor. In the case of ```hello_constant = tf.constant('Hello World!')```, ```hello_constant!')```, is a 0-dimensional string tensor, but tensors come in a variety of sizes as shown below:", 
            "cell_type": "markdown", 
            "metadata": {}
        }, 
        {
            "source": "# A is a 0-dimensional int32 tensor\nA = tf.constant(1234) \n# B is a 1-dimensional int32 tensor\nB = tf.constant([ [123,456,789] ]) \n # C is a 2-dimensional int32 tensor\nC = tf.constant([ [123,456,789], [222,333,444] ])", 
            "execution_count": 3, 
            "cell_type": "code", 
            "outputs": [], 
            "metadata": {
                "collapsed": true
            }
        }, 
        {
            "source": "### Session\n\nTensorFlow\u2019s api is built around the idea of a computational graph, a way of visualizing a mathematical process. Let\u2019s take the TensorFlow code you ran and turn that into a graph:\n<img src=\"https://d17h27t6h515a5.cloudfront.net/topher/2016/October/580feadb_session/session.png\" alt=\"\" class=\"index--image--1xyr4\" style=\"height: 312.419px; width: 539px;\">\nA \"TensorFlow Session\", as shown above, is an environment for running a graph. The session is in charge of allocating the operations to GPU(s) and/or CPU(s), including remote machines. Let\u2019s see how you use it.", 
            "cell_type": "markdown", 
            "metadata": {}
        }, 
        {
            "source": "with tf.Session() as sess:\n    output = sess.run(hello_constant)", 
            "execution_count": 4, 
            "cell_type": "code", 
            "outputs": [], 
            "metadata": {
                "collapsed": true
            }
        }, 
        {
            "source": "The code has already created the tensor, ```hello_constant```, from the previous lines. The next step is to evaluate the tensor in a session.\n\nThe code creates a session instance, sess, using ```tf.Session```,. The ```sess.run()```, function then evaluates the tensor and returns the results.", 
            "cell_type": "markdown", 
            "metadata": {}
        }, 
        {
            "source": "", 
            "execution_count": null, 
            "cell_type": "code", 
            "outputs": [], 
            "metadata": {
                "collapsed": true
            }
        }
    ], 
    "nbformat": 4, 
    "metadata": {
        "kernelspec": {
            "name": "python2", 
            "language": "python", 
            "display_name": "Python 2 with Spark 1.6"
        }, 
        "language_info": {
            "codemirror_mode": {
                "name": "ipython", 
                "version": 2
            }, 
            "name": "python", 
            "pygments_lexer": "ipython2", 
            "mimetype": "text/x-python", 
            "nbconvert_exporter": "python", 
            "file_extension": ".py", 
            "version": "2.7.11"
        }
    }
}